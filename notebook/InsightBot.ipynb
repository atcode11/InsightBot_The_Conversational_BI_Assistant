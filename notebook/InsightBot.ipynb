{
  "nbformat": 4,
  "nbformat_minor": 0,
  "metadata": {
    "colab": {
      "provenance": []
    },
    "kernelspec": {
      "name": "python3",
      "display_name": "Python 3"
    },
    "language_info": {
      "name": "python"
    }
  },
  "cells": [
    {
      "cell_type": "markdown",
      "source": [
        "### Installing the requirements"
      ],
      "metadata": {
        "id": "TAf-WjJ1ETTa"
      }
    },
    {
      "cell_type": "code",
      "source": [
        "# Install wget\n",
        "!pip install wget\n",
        "\n",
        "# Download requirements.txt from Dropbox\n",
        "import wget\n",
        "url = \"https://www.dropbox.com/scl/fi/3vnb4m3r7p11gcyk54iri/requirements.txt?rlkey=clw470igddnwsg9qz96cfgr64&st=x8ddgar6&dl=1\"\n",
        "wget.download(url, \"requirements.txt\")\n",
        "\n",
        "# Install requirements\n",
        "!pip install -r requirements.txt\n"
      ],
      "metadata": {
        "id": "tcbLT4pE4jYT"
      },
      "execution_count": null,
      "outputs": []
    },
    {
      "cell_type": "markdown",
      "source": [
        "### Creating the Database"
      ],
      "metadata": {
        "id": "vOoRKlpBEHVM"
      }
    },
    {
      "cell_type": "code",
      "execution_count": null,
      "metadata": {
        "id": "h91ukGDWQYGe"
      },
      "outputs": [],
      "source": [
        "import sqlite3\n",
        "import os\n",
        "\n",
        "# File path\n",
        "database_file_path = './sql_lite_database.db'\n",
        "\n",
        "# Check if database file exists and delete if it does\n",
        "if os.path.exists(database_file_path):\n",
        "    os.remove(database_file_path)\n",
        "    message = \"File 'sql_lite_database.db' found and deleted.\"\n",
        "else:\n",
        "    message = \"File 'sql_lite_database.db' does not exist.\"\n",
        "\n",
        "# Step 1: Connect to the database or create it if it doesn't exist\n",
        "conn = sqlite3.connect(database_file_path)\n",
        "\n",
        "# Step 2: Create a cursor\n",
        "cursor = conn.cursor()\n",
        "\n",
        "# Step 3: Create tables\n",
        "create_table_query1 = \"\"\"\n",
        "                        CREATE TABLE IF NOT EXISTS   \"AGENTS\"\n",
        "                        (\n",
        "                            \"AGENT_CODE\" CHAR(6) NOT NULL PRIMARY KEY,\n",
        "                            \"AGENT_NAME\" CHAR(40),\n",
        "                            \"WORKING_AREA\" CHAR(35),\n",
        "                            \"COMMISSION\" NUMBER(10,2),\n",
        "                            \"PHONE_NO\" CHAR(15),\n",
        "                            \"COUNTRY\" VARCHAR2(25)\n",
        "                            );\n",
        "                        \"\"\"\n",
        "\n",
        "create_table_query2 = \"\"\"\n",
        "                        CREATE TABLE IF NOT EXISTS   \"CUSTOMER\"\n",
        "                        (\t\"CUST_CODE\" VARCHAR2(6) NOT NULL PRIMARY KEY,\n",
        "                            \"CUST_NAME\" VARCHAR2(40) NOT NULL,\n",
        "                            \"CUST_CITY\" CHAR(35),\n",
        "                            \"WORKING_AREA\" VARCHAR2(35) NOT NULL,\n",
        "                            \"CUST_COUNTRY\" VARCHAR2(20) NOT NULL,\n",
        "                            \"GRADE\" NUMBER,\n",
        "                            \"OPENING_AMT\" NUMBER(12,2) NOT NULL,\n",
        "                            \"RECEIVE_AMT\" NUMBER(12,2) NOT NULL,\n",
        "                            \"PAYMENT_AMT\" NUMBER(12,2) NOT NULL,\n",
        "                            \"OUTSTANDING_AMT\" NUMBER(12,2) NOT NULL,\n",
        "                            \"PHONE_NO\" VARCHAR2(17) NOT NULL,\n",
        "                            \"AGENT_CODE\" CHAR(6) NOT NULL REFERENCES AGENTS\n",
        "                        );\n",
        "                        \"\"\"\n",
        "\n",
        "create_table_query3 = \"\"\"\n",
        "                        CREATE TABLE IF NOT EXISTS \"ORDERS\"\n",
        "                        (\n",
        "                            \"ORD_NUM\" NUMBER(6,0) NOT NULL PRIMARY KEY,\n",
        "                            \"ORD_AMOUNT\" NUMBER(12,2) NOT NULL,\n",
        "                            \"ADVANCE_AMOUNT\" NUMBER(12,2) NOT NULL,\n",
        "                            \"ORD_DATE\" DATE NOT NULL,\n",
        "                            \"CUST_CODE\" VARCHAR2(6) NOT NULL REFERENCES CUSTOMER,\n",
        "                            \"AGENT_CODE\" CHAR(6) NOT NULL REFERENCES AGENTS,\n",
        "                            \"ORD_DESCRIPTION\" VARCHAR2(60) NOT NULL\n",
        "                        );\n",
        "                        \"\"\"\n",
        "\n",
        "queries = [create_table_query1, create_table_query2, create_table_query3]\n",
        "# queries = [create_table_query1, create_table_query2]\n",
        "\n",
        "for query in queries:\n",
        "    # execute queries\n",
        "    cursor.execute(query)\n",
        "\n",
        "# Step 4: Insert data into tables Agents, Orders and Customers\n",
        "insert_query = \"\"\"\n",
        "INSERT INTO AGENTS VALUES ('A007', 'Ramasundar', 'Bangalore', '0.15', '077-25814763', '');\n",
        "INSERT INTO AGENTS VALUES ('A003', 'Alex ', 'London', '0.13', '075-12458969', '');\n",
        "INSERT INTO AGENTS VALUES ('A008', 'Alford', 'New York', '0.12', '044-25874365', '');\n",
        "INSERT INTO AGENTS VALUES ('A011', 'Ravi Kumar', 'Bangalore', '0.15', '077-45625874', '');\n",
        "INSERT INTO AGENTS VALUES ('A010', 'Santakumar', 'Chennai', '0.14', '007-22388644', '');\n",
        "INSERT INTO AGENTS VALUES ('A012', 'Lucida', 'San Jose', '0.12', '044-52981425', '');\n",
        "INSERT INTO AGENTS VALUES ('A005', 'Anderson', 'Brisban', '0.13', '045-21447739', '');\n",
        "INSERT INTO AGENTS VALUES ('A001', 'Subbarao', 'Bangalore', '0.14', '077-12346674', '');\n",
        "INSERT INTO AGENTS VALUES ('A002', 'Mukesh', 'Mumbai', '0.11', '029-12358964', '');\n",
        "INSERT INTO AGENTS VALUES ('A006', 'McDen', 'London', '0.15', '078-22255588', '');\n",
        "INSERT INTO AGENTS VALUES ('A004', 'Ivan', 'Torento', '0.15', '008-22544166', '');\n",
        "INSERT INTO AGENTS VALUES ('A009', 'Benjamin', 'Hampshair', '0.11', '008-22536178', '');\n",
        "INSERT INTO CUSTOMER VALUES ('C00013', 'Holmes', 'London', 'London', 'UK', '2', '6000.00', '5000.00', '7000.00', '4000.00', 'BBBBBBB', 'A003');\n",
        "INSERT INTO CUSTOMER VALUES ('C00001', 'Micheal', 'New York', 'New York', 'USA', '2', '3000.00', '5000.00', '2000.00', '6000.00', 'CCCCCCC', 'A008');\n",
        "INSERT INTO CUSTOMER VALUES ('C00020', 'Albert', 'New York', 'New York', 'USA', '3', '5000.00', '7000.00', '6000.00', '6000.00', 'BBBBSBB', 'A008');\n",
        "INSERT INTO CUSTOMER VALUES ('C00025', 'Ravindran', 'Bangalore', 'Bangalore', 'India', '2', '5000.00', '7000.00', '4000.00', '8000.00', 'AVAVAVA', 'A011');\n",
        "INSERT INTO CUSTOMER VALUES ('C00024', 'Cook', 'London', 'London', 'UK', '2', '4000.00', '9000.00', '7000.00', '6000.00', 'FSDDSDF', 'A006');\n",
        "INSERT INTO CUSTOMER VALUES ('C00015', 'Stuart', 'London', 'London', 'UK', '1', '6000.00', '8000.00', '3000.00', '11000.00', 'GFSGERS', 'A003');\n",
        "INSERT INTO CUSTOMER VALUES ('C00002', 'Bolt', 'New York', 'New York', 'USA', '3', '5000.00', '7000.00', '9000.00', '3000.00', 'DDNRDRH', 'A008');\n",
        "INSERT INTO CUSTOMER VALUES ('C00018', 'Fleming', 'Brisban', 'Brisban', 'Australia', '2', '7000.00', '7000.00', '9000.00', '5000.00', 'NHBGVFC', 'A005');\n",
        "INSERT INTO CUSTOMER VALUES ('C00021', 'Jacks', 'Brisban', 'Brisban', 'Australia', '1', '7000.00', '7000.00', '7000.00', '7000.00', 'WERTGDF', 'A005');\n",
        "INSERT INTO CUSTOMER VALUES ('C00019', 'Yearannaidu', 'Chennai', 'Chennai', 'India', '1', '8000.00', '7000.00', '7000.00', '8000.00', 'ZZZZBFV', 'A010');\n",
        "INSERT INTO CUSTOMER VALUES ('C00005', 'Sasikant', 'Mumbai', 'Mumbai', 'India', '1', '7000.00', '11000.00', '7000.00', '11000.00', '147-25896312', 'A002');\n",
        "INSERT INTO CUSTOMER VALUES ('C00007', 'Ramanathan', 'Chennai', 'Chennai', 'India', '1', '7000.00', '11000.00', '9000.00', '9000.00', 'GHRDWSD', 'A010');\n",
        "INSERT INTO CUSTOMER VALUES ('C00022', 'Avinash', 'Mumbai', 'Mumbai', 'India', '2', '7000.00', '11000.00', '9000.00', '9000.00', '113-12345678','A002');\n",
        "INSERT INTO CUSTOMER VALUES ('C00004', 'Winston', 'Brisban', 'Brisban', 'Australia', '1', '5000.00', '8000.00', '7000.00', '6000.00', 'AAAAAAA', 'A005');\n",
        "INSERT INTO CUSTOMER VALUES ('C00023', 'Karl', 'London', 'London', 'UK', '0', '4000.00', '6000.00', '7000.00', '3000.00', 'AAAABAA', 'A006');\n",
        "INSERT INTO CUSTOMER VALUES ('C00006', 'Shilton', 'Torento', 'Torento', 'Canada', '1', '10000.00', '7000.00', '6000.00', '11000.00', 'DDDDDDD', 'A004');\n",
        "INSERT INTO CUSTOMER VALUES ('C00010', 'Charles', 'Hampshair', 'Hampshair', 'UK', '3', '6000.00', '4000.00', '5000.00', '5000.00', 'MMMMMMM', 'A009');\n",
        "INSERT INTO CUSTOMER VALUES ('C00017', 'Srinivas', 'Bangalore', 'Bangalore', 'India', '2', '8000.00', '4000.00', '3000.00', '9000.00', 'AAAAAAB', 'A007');\n",
        "INSERT INTO CUSTOMER VALUES ('C00012', 'Steven', 'San Jose', 'San Jose', 'USA', '1', '5000.00', '7000.00', '9000.00', '3000.00', 'KRFYGJK', 'A012');\n",
        "INSERT INTO CUSTOMER VALUES ('C00008', 'Karolina', 'Torento', 'Torento', 'Canada', '1', '7000.00', '7000.00', '9000.00', '5000.00', 'HJKORED', 'A004');\n",
        "INSERT INTO CUSTOMER VALUES ('C00003', 'Martin', 'Torento', 'Torento', 'Canada', '2', '8000.00', '7000.00', '7000.00', '8000.00', 'MJYURFD', 'A004');\n",
        "INSERT INTO CUSTOMER VALUES ('C00009', 'Ramesh', 'Mumbai', 'Mumbai', 'India', '3', '8000.00', '7000.00', '3000.00', '12000.00', 'Phone No', 'A002');\n",
        "INSERT INTO CUSTOMER VALUES ('C00014', 'Rangarappa', 'Bangalore', 'Bangalore', 'India', '2', '8000.00', '11000.00', '7000.00', '12000.00', 'AAAATGF', 'A001');\n",
        "INSERT INTO CUSTOMER VALUES ('C00016', 'Venkatpati', 'Bangalore', 'Bangalore', 'India', '2', '8000.00', '11000.00', '7000.00', '12000.00', 'JRTVFDD', 'A007');\n",
        "INSERT INTO CUSTOMER VALUES ('C00011', 'Sundariya', 'Chennai', 'Chennai', 'India', '3', '7000.00', '11000.00', '7000.00', '11000.00', 'PPHGRTS', 'A010');\n",
        "INSERT INTO ORDERS VALUES('200100', '1000.00', '600.00', '2008-08-01', 'C00013', 'A003', 'SOD');\n",
        "INSERT INTO ORDERS VALUES('200110', '3000.00', '500.00', '2008-04-15', 'C00019', 'A010', 'SOD');\n",
        "INSERT INTO ORDERS VALUES('200107', '4500.00', '900.00', '2008-08-30', 'C00007', 'A010', 'SOD');\n",
        "INSERT INTO ORDERS VALUES('200112', '2000.00', '400.00', '2008-05-30', 'C00016', 'A007', 'SOD');\n",
        "INSERT INTO ORDERS VALUES('200113', '4000.00', '600.00', '2008-06-10', 'C00022', 'A002', 'SOD');\n",
        "INSERT INTO ORDERS VALUES('200102', '2000.00', '300.00', '2008-05-25', 'C00012', 'A012', 'SOD');\n",
        "INSERT INTO ORDERS VALUES('200114', '3500.00', '2000.00', '2008-08-15', 'C00002', 'A008', 'SOD');\n",
        "INSERT INTO ORDERS VALUES('200122', '2500.00', '400.00', '2008-09-16', 'C00003', 'A004', 'SOD');\n",
        "INSERT INTO ORDERS VALUES('200118', '500.00', '100.00', '2008-07-20', 'C00023', 'A006', 'SOD');\n",
        "INSERT INTO ORDERS VALUES('200119', '4000.00', '700.00', '2008-09-16', 'C00007', 'A010', 'SOD');\n",
        "INSERT INTO ORDERS VALUES('200121', '1500.00', '600.00', '2008-09-23', 'C00008', 'A004', 'SOD');\n",
        "INSERT INTO ORDERS VALUES('200130', '2500.00', '400.00', '2008-07-30', 'C00025', 'A011', 'SOD');\n",
        "INSERT INTO ORDERS VALUES('200134', '4200.00', '1800.00', '2008-09-25', 'C00004', 'A005', 'SOD');\n",
        "INSERT INTO ORDERS VALUES('200108', '4000.00', '600.00', '2008-02-15', 'C00008', 'A004', 'SOD');\n",
        "INSERT INTO ORDERS VALUES('200103', '1500.00', '700.00', '2008-05-15', 'C00021', 'A005', 'SOD');\n",
        "INSERT INTO ORDERS VALUES('200105', '2500.00', '500.00', '2008-07-18', 'C00025', 'A011', 'SOD');\n",
        "INSERT INTO ORDERS VALUES('200109', '3500.00', '800.00', '2008-07-30', 'C00011', 'A010', 'SOD');\n",
        "INSERT INTO ORDERS VALUES('200101', '3000.00', '1000.00', '2008-07-15', 'C00001', 'A008', 'SOD');\n",
        "INSERT INTO ORDERS VALUES('200111', '1000.00', '300.00', '2008-07-10', 'C00020', 'A008', 'SOD');\n",
        "INSERT INTO ORDERS VALUES('200104', '1500.00', '500.00', '2008-03-13', 'C00006', 'A004', 'SOD');\n",
        "INSERT INTO ORDERS VALUES('200106', '2500.00', '700.00', '2008-04-20', 'C00005', 'A002', 'SOD');\n",
        "INSERT INTO ORDERS VALUES('200125', '2000.00', '600.00', '2008-10-10', 'C00018', 'A005', 'SOD');\n",
        "INSERT INTO ORDERS VALUES('200117', '800.00', '200.00', '2008-10-20', 'C00014', 'A001', 'SOD');\n",
        "INSERT INTO ORDERS VALUES('200123', '500.00', '100.00', '2008-09-16', 'C00022', 'A002', 'SOD');\n",
        "INSERT INTO ORDERS VALUES('200120', '500.00', '100.00', '2008-07-20', 'C00009', 'A002', 'SOD');\n",
        "INSERT INTO ORDERS VALUES('200116', '500.00', '100.00', '2008-07-13', 'C00010', 'A009', 'SOD');\n",
        "INSERT INTO ORDERS VALUES('200124', '500.00', '100.00', '2008-06-20', 'C00017', 'A007', 'SOD');\n",
        "INSERT INTO ORDERS VALUES('200126', '500.00', '100.00', '2008-06-24', 'C00022', 'A002', 'SOD');\n",
        "INSERT INTO ORDERS VALUES('200129', '2500.00', '500.00', '2008-07-20', 'C00024', 'A006', 'SOD');\n",
        "INSERT INTO ORDERS VALUES('200127', '2500.00', '400.00', '2008-07-20', 'C00015', 'A003', 'SOD');\n",
        "INSERT INTO ORDERS VALUES('200128', '3500.00', '1500.00', '2008-07-20', 'C00009', 'A002', 'SOD');\n",
        "INSERT INTO ORDERS VALUES('200135', '2000.00', '800.00', '2008-09-16', 'C00007', 'A010', 'SOD');\n",
        "INSERT INTO ORDERS VALUES('200131', '900.00', '150.00', '2008-08-26', 'C00012', 'A012', 'SOD');\n",
        "INSERT INTO ORDERS VALUES('200133', '1200.00', '400.00', '2008-06-29', 'C00009', 'A002', 'SOD');\n",
        "\"\"\"\n",
        "\n",
        "for row in insert_query.splitlines():\n",
        "    try:\n",
        "        cursor.execute(row)\n",
        "    except:\n",
        "        print(f\"An error occurred\")\n",
        "        print(row)\n",
        "\n",
        "# Step 5: Fetch data from tables\n",
        "list_of_queries = []\n",
        "list_of_queries.append(\"SELECT * FROM AGENTS\")\n",
        "list_of_queries.append(\"SELECT * FROM CUSTOMER\")\n",
        "list_of_queries.append(\"SELECT * FROM ORDERS\")\n",
        "\n",
        "# execute queries\n",
        "for query in list_of_queries:\n",
        "    cursor.execute(query)\n",
        "    data = cursor.fetchall()\n",
        "\n",
        "    print(f\"--- Data from tables ({query}) ---\")\n",
        "    for row in data:\n",
        "        print(row)\n",
        "\n",
        "# Step 7: Close the cursor and connection\n",
        "cursor.close()\n",
        "conn.commit()\n",
        "conn.close()"
      ]
    },
    {
      "cell_type": "markdown",
      "source": [
        "### Langchain agents to query the SQLite database \"sql_lite_database.db\".\n",
        "- To be able to chat with our database, we use LangChain Agents. As a toolkit we are using the SQLDatabaseToolkit."
      ],
      "metadata": {
        "id": "rBJTVp5y1gEv"
      }
    },
    {
      "cell_type": "markdown",
      "source": [
        "### installing the libraries"
      ],
      "metadata": {
        "id": "5ihiW1yBEcH9"
      }
    },
    {
      "cell_type": "code",
      "source": [
        "!pip install langchain\n",
        "!pip install -U langchain-community\n",
        "!pip install -U langchain-openai\n",
        "!pip install python-dotenv\n"
      ],
      "metadata": {
        "id": "-2qUj2_H2Gqr"
      },
      "execution_count": null,
      "outputs": []
    },
    {
      "cell_type": "code",
      "source": [
        "import openai\n",
        "import getpass\n",
        "\n",
        "\n",
        "# Enter your OpenAI API private access key here. IMPORTANT - don't share your code online if it contains your access key or anyone will be able to access your openai account\n",
        "api_key = getpass.getpass(\"Enter your API Key...\")"
      ],
      "metadata": {
        "id": "iTJKArdJDVjR"
      },
      "execution_count": null,
      "outputs": []
    },
    {
      "cell_type": "code",
      "source": [
        "import os\n",
        "os.environ['OPENAI_API_KEY'] = api_key"
      ],
      "metadata": {
        "id": "aGH5LC1ZDizT"
      },
      "execution_count": null,
      "outputs": []
    },
    {
      "cell_type": "markdown",
      "source": [
        "### LangChain Agents\n",
        "\n",
        "- To define our agents, we need to specify the following points:\n",
        "\n",
        "- The agent’s toolkit, here: SQLDatabaseToolkit\n",
        "- The agent executor with agent type, here: ZERO_SHOT_REACT_DESCRIPTION ."
      ],
      "metadata": {
        "id": "G-krqmHyE7r0"
      }
    },
    {
      "cell_type": "code",
      "source": [
        "from langchain.utilities import SQLDatabase\n",
        "from langchain.llms import OpenAI\n",
        "from langchain.agents.agent_types import AgentType\n",
        "from langchain.agents.agent_toolkits import SQLDatabaseToolkit\n",
        "from langchain.utilities import SQLDatabase\n",
        "from langchain_openai import OpenAI\n",
        "from langchain.agents import create_sql_agent\n",
        "import os\n",
        "from dotenv import load_dotenv\n",
        "load_dotenv()\n",
        "\n",
        "# define the database we want to use for our test\n",
        "db = SQLDatabase.from_uri('sqlite:///sql_lite_database.db')\n",
        "\n",
        "# choose llm model, in this case the default OpenAI model\n",
        "llm = OpenAI(\n",
        "            temperature=0,\n",
        "            verbose=True,\n",
        "            openai_api_key=os.getenv(\"OPENAI_API_KEY\"),\n",
        "            )\n",
        "# setup agent\n",
        "toolkit = SQLDatabaseToolkit(db=db, llm=llm)\n",
        "agent_executor = create_sql_agent(\n",
        "    llm=llm,\n",
        "    toolkit=toolkit,\n",
        "    verbose=True,\n",
        "    agent_type=AgentType.ZERO_SHOT_REACT_DESCRIPTION,\n",
        ")\n",
        "# prints the prompt used by langchain\n",
        "print(repr(agent_executor.agent))\n",
        "# define the user's question\n",
        "# question = \"How many customers do we have in our database?\"\n",
        "question=input()\n",
        "agent_executor.invoke(question)"
      ],
      "metadata": {
        "id": "yKD-9BjEzsP2"
      },
      "execution_count": null,
      "outputs": []
    },
    {
      "cell_type": "code",
      "source": [
        "question = \"How many customers do we have in our database in customer table?\"\n",
        "agent_executor.invoke(question)"
      ],
      "metadata": {
        "id": "4JKIWRJC1uRM"
      },
      "execution_count": null,
      "outputs": []
    },
    {
      "cell_type": "markdown",
      "source": [
        "- That’s it. We have just chatted with our database.\n",
        "- It works well, even if the descriptions of the database fields are not always clear."
      ],
      "metadata": {
        "id": "e80mUDEjG2bL"
      }
    },
    {
      "cell_type": "markdown",
      "source": [
        "#### Query 2:   “List all customers from the US”\n",
        "\n",
        "\n"
      ],
      "metadata": {
        "id": "AP60Z5kEHBCA"
      }
    },
    {
      "cell_type": "code",
      "source": [
        "# define the user's question\n",
        "question = \"List all customers from the US\"\n",
        "agent_executor.invoke(question)"
      ],
      "metadata": {
        "id": "uSZ-MpQ9Flk0"
      },
      "execution_count": null,
      "outputs": []
    },
    {
      "cell_type": "markdown",
      "source": [
        "#### Query3:  “What is the phone number of the customer Albert?”"
      ],
      "metadata": {
        "id": "fl61IxxPHqGe"
      }
    },
    {
      "cell_type": "code",
      "source": [
        "# define the user's question\n",
        "question = \"What is the phone number of the customer Albert?\"\n",
        "agent_executor.invoke(question)"
      ],
      "metadata": {
        "id": "LrAF7Ir2Hk3x"
      },
      "execution_count": null,
      "outputs": []
    },
    {
      "cell_type": "code",
      "source": [],
      "metadata": {
        "id": "bLTT5eOIIBkz"
      },
      "execution_count": null,
      "outputs": []
    }
  ]
}